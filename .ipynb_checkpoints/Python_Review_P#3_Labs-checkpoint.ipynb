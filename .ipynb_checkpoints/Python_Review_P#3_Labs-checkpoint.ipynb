{
 "cells": [
  {
   "cell_type": "markdown",
   "id": "2d4a0e4d",
   "metadata": {},
   "source": [
    "## Lab1-Lists\n",
    "Given the following list : [5, 4, 17, 19, 30, 2, 7, 10, 45]\n",
    "- Q1: Write a Python program to sum all the items in the list.\n",
    "- Q2: Write a Python program to get the largest number from the list.\n",
    "- Q3: Use list comprehension, create a new list from the above list containing only even numbers.\n",
    "- Q4: Use list slicing to get a new list from the previous list starting from the start to the 5th element in the list."
   ]
  },
  {
   "cell_type": "code",
   "execution_count": 1,
   "id": "88e0fe9c",
   "metadata": {},
   "outputs": [
    {
     "name": "stdout",
     "output_type": "stream",
     "text": [
      "139\n"
     ]
    }
   ],
   "source": [
    "#Lab 1 Question 1 Solution\n",
    "lst = [5, 4, 17, 19, 30, 2, 7, 10, 45]\n",
    "total = sum(lst)"
   ]
  },
  {
   "cell_type": "code",
   "execution_count": 3,
   "id": "0903d307-0b26-4a8f-84d1-52adaf515d03",
   "metadata": {},
   "outputs": [
    {
     "name": "stdout",
     "output_type": "stream",
     "text": [
      "45\n"
     ]
    }
   ],
   "source": [
    "#Lab 1 Question 2 Solution\n",
    "largest = max(lst)"
   ]
  },
  {
   "cell_type": "code",
   "execution_count": 4,
   "id": "ed1803c5-737f-4791-a7dd-8973ada7b24f",
   "metadata": {},
   "outputs": [
    {
     "name": "stdout",
     "output_type": "stream",
     "text": [
      "[4, 30, 2, 10]\n"
     ]
    }
   ],
   "source": [
    "#Lab 1 Question 3 Solution\n",
    "even_list = [num for num in lst if num % 2 == 0]"
   ]
  },
  {
   "cell_type": "code",
   "execution_count": 6,
   "id": "8c89d961-eddd-4985-9824-0d66ecffe47a",
   "metadata": {},
   "outputs": [
    {
     "name": "stdout",
     "output_type": "stream",
     "text": [
      "[2, 7, 10, 45]\n"
     ]
    }
   ],
   "source": [
    "#Lab 1 Question 4 Solution\n",
    "sliced_list = lst[5:]"
   ]
  },
  {
   "cell_type": "markdown",
   "id": "4df61e4c",
   "metadata": {},
   "source": [
    "## Lab2-Dictionary\n",
    "\n",
    "Build a phone book program that receives the phone number, and returns the name of the owner. \n",
    "You can follow the table below:\n",
    "\n",
    "| Name    | Number      |\n",
    "| -------- | ---------- |\n",
    "| Amal     | 1111111111 |\n",
    "| Mohammed | 2222222222 |\n",
    "| Khadijah | 3333333333 |\n",
    "| Abdullah  | 4444444444 |\n",
    "| Rawan    | 5555555555 |\n",
    "| Faisal   | 6666666666 |\n",
    "| Layla    | 7777777777 |\n",
    "\n",
    "\n",
    "- If the number exists, print the owner. Otherwise, print \"Sorry, the number is not found\".\n",
    "- If the number is less or more than 10 numbers, print \"This is invalid number\".\n",
    "- If the number contains letters or symbols, print \"This is invalid number\"."
   ]
  },
  {
   "cell_type": "code",
   "execution_count": 13,
   "id": "7d53c06c",
   "metadata": {},
   "outputs": [
    {
     "name": "stdout",
     "output_type": "stream",
     "text": [
      "{'Amal': 1111111111, 'Mohammed': 2222222222, 'Khadijah': 3333333333, 'Abdullah': 4444444444, 'Rawan': 5555555555, 'Faisal': 6666666666, 'Layla': 7777777777}\n"
     ]
    }
   ],
   "source": [
    "\"\"\"Phonebook program.\n",
    "\n",
    "this program returns the name of a person in the database based on the number\n",
    "\n",
    "input:\n",
    "-number\n",
    "\"\"\"\n",
    "def phonebook(number):\n",
    "    my_dict = { \n",
    "        'Amal' : 1111111111,\n",
    "        'Mohammed' : 2222222222,\n",
    "        'Khadijah' : 3333333333,\n",
    "        'Abdullah' : 4444444444,\n",
    "        'Rawan' : 5555555555,\n",
    "        'Faisal' : 6666666666,\n",
    "        'Layla' : 7777777777\n",
    "    }\n",
    "    if number != 10:\n",
    "        print(\"This is an invalid number\")\n",
    "    elif number.isnumeric() == False:\n",
    "        print(\"This is invalid number\")\n",
    "    else:\n",
    "        for key,val in my_dict:\n",
    "            if number == val:\n",
    "                return key\n",
    "            else:\n",
    "                print(\"Sorry, the number is not found\")\n"
   ]
  },
  {
   "cell_type": "code",
   "execution_count": null,
   "id": "7f625f67-0027-4961-b06f-341a03b793e4",
   "metadata": {},
   "outputs": [],
   "source": []
  },
  {
   "cell_type": "code",
   "execution_count": null,
   "id": "ffdffaec",
   "metadata": {},
   "outputs": [],
   "source": []
  },
  {
   "cell_type": "code",
   "execution_count": null,
   "id": "93b05ba5",
   "metadata": {},
   "outputs": [],
   "source": []
  }
 ],
 "metadata": {
  "kernelspec": {
   "display_name": "Python 3 (ipykernel)",
   "language": "python",
   "name": "python3"
  },
  "language_info": {
   "codemirror_mode": {
    "name": "ipython",
    "version": 3
   },
   "file_extension": ".py",
   "mimetype": "text/x-python",
   "name": "python",
   "nbconvert_exporter": "python",
   "pygments_lexer": "ipython3",
   "version": "3.11.7"
  }
 },
 "nbformat": 4,
 "nbformat_minor": 5
}

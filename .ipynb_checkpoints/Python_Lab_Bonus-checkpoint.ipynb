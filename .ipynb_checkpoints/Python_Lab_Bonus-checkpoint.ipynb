{
 "cells": [
  {
   "cell_type": "code",
   "execution_count": 33,
   "id": "0a1f9a40-17ba-41fd-b69f-3af56701eec9",
   "metadata": {},
   "outputs": [
    {
     "name": "stdin",
     "output_type": "stream",
     "text": [
      "Please enter your name:  sad\n",
      "Please enter your age:  12\n",
      "Please enter the number of items you want to buy:  2\n"
     ]
    },
    {
     "name": "stdout",
     "output_type": "stream",
     "text": [
      "0\n"
     ]
    },
    {
     "name": "stdin",
     "output_type": "stream",
     "text": [
      "Please enter item name:  sda\n",
      "Please enter item price:  123\n",
      "Please enter item quantity:  2\n"
     ]
    },
    {
     "name": "stdout",
     "output_type": "stream",
     "text": [
      "the item cost is:  246 and the total cost is:  246\n",
      "1\n"
     ]
    },
    {
     "name": "stdin",
     "output_type": "stream",
     "text": [
      "Please enter item name:  dsaf\n",
      "Please enter item price:  231\n",
      "Please enter item quantity:  3\n"
     ]
    },
    {
     "name": "stdout",
     "output_type": "stream",
     "text": [
      "the item cost is:  693 and the total cost is:  939\n"
     ]
    },
    {
     "name": "stdin",
     "output_type": "stream",
     "text": [
      "Do you want to repeat the order?, (yes,no) the default is no: no\n"
     ]
    }
   ],
   "source": [
    "\"\"\"this is a checkout program\"\"\"\n",
    "item_name = []\n",
    "item_price = []\n",
    "item_quantity = []\n",
    "item_cost = []\n",
    "\n",
    "loop = True\n",
    "while(loop):\n",
    "    try:\n",
    "        name = str(input(\"Please enter your name: \"))\n",
    "        age = int(input(\"Please enter your age: \"))\n",
    "\n",
    "        if age < 6 and age > 0:\n",
    "            print(\"Kid\")\n",
    "        elif age < 0:\n",
    "            print(\"Wrong age value, you can not enter value 0 or less.\")\n",
    "        elif age > 6:\n",
    "            total_cost = 0\n",
    "            nitems = int(input(\"Please enter the number of items you want to buy: \"))\n",
    "            for num in range(nitems):\n",
    "                print(num)\n",
    "                item_name.append(str(input(\"Please enter item name: \")))\n",
    "                item_price.append(int(input(\"Please enter item price: \")))\n",
    "                item_quantity.append(int(input(\"Please enter item quantity: \")))\n",
    "                item_cost.append(int(item_quantity[num] * item_price[num]))\n",
    "                total_cost += item_cost[num]\n",
    "                print(\"the item cost is:\", item_cost[num], \", and the total cost is:\", total_cost)\n",
    "            if total_cost > 200:\n",
    "                total_cost = total_cost * (20/100)\n",
    "            \n",
    "    except:\n",
    "        print(\"An Error has occured!\")\n",
    "    tmp = input(\"Do you want to repeat the order?, (yes,no) the default is no:\")\n",
    "    if tmp.lower() == \"yes\":\n",
    "        loop = True\n",
    "    else:\n",
    "        loop = False\n"
   ]
  },
  {
   "cell_type": "code",
   "execution_count": null,
   "id": "f87b593b-db6a-430e-b109-8db9e3e3c1e5",
   "metadata": {},
   "outputs": [],
   "source": []
  },
  {
   "cell_type": "code",
   "execution_count": null,
   "id": "388eab17-c701-4f5a-8d16-2b5b490e20ff",
   "metadata": {},
   "outputs": [],
   "source": []
  },
  {
   "cell_type": "code",
   "execution_count": null,
   "id": "6ca90675-9bfa-4027-a6d9-11d205289da8",
   "metadata": {},
   "outputs": [],
   "source": []
  },
  {
   "cell_type": "code",
   "execution_count": null,
   "id": "b6ee3382-ee4b-4d42-8584-c69551254387",
   "metadata": {},
   "outputs": [],
   "source": []
  }
 ],
 "metadata": {
  "kernelspec": {
   "display_name": "Python 3 (ipykernel)",
   "language": "python",
   "name": "python3"
  },
  "language_info": {
   "codemirror_mode": {
    "name": "ipython",
    "version": 3
   },
   "file_extension": ".py",
   "mimetype": "text/x-python",
   "name": "python",
   "nbconvert_exporter": "python",
   "pygments_lexer": "ipython3",
   "version": "3.11.7"
  }
 },
 "nbformat": 4,
 "nbformat_minor": 5
}
